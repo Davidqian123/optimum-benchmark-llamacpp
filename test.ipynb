{
 "cells": [
  {
   "cell_type": "code",
   "execution_count": 1,
   "metadata": {},
   "outputs": [],
   "source": [
    "# reload all modules every time before executing the Python code.\n",
    "%reload_ext autoreload\n",
    "%autoreload 2"
   ]
  },
  {
   "cell_type": "code",
   "execution_count": 2,
   "metadata": {},
   "outputs": [
    {
     "data": {
      "text/plain": [
       "BenchmarkConfig(MODELS=['bert-base-uncased'], BATCH_SIZES=[1], SEQ_LENS=[128], SPARSITIES=[0], DEVICES=['cpu'], THREADS=[1], total_duration=60, min_run_time=60, num_run_times=None, run_func=None, dummy_inputs_func=None)"
      ]
     },
     "execution_count": 2,
     "metadata": {},
     "output_type": "execute_result"
    }
   ],
   "source": [
    "from benchmark.config import BenchmarkConfig\n",
    "\n",
    "BenchmarkConfig()"
   ]
  },
  {
   "cell_type": "code",
   "execution_count": 3,
   "metadata": {},
   "outputs": [],
   "source": [
    "from benchmark.benchmark import PytorchBenchmark\n",
    "from benchmark.utils import sequence_dummy_inputs, run_with_torch_no_grad\n",
    "\n",
    "bench = PytorchBenchmark(\n",
    "    config=BenchmarkConfig(\n",
    "        num_run_times=1,\n",
    "        run_func=run_with_torch_no_grad,\n",
    "        dummy_inputs_func=sequence_dummy_inputs,\n",
    "    ))"
   ]
  },
  {
   "cell_type": "code",
   "execution_count": 7,
   "metadata": {},
   "outputs": [
    {
     "name": "stderr",
     "output_type": "stream",
     "text": [
      "Some weights of the model checkpoint at bert-base-uncased were not used when initializing BertModel: ['cls.predictions.transform.dense.bias', 'cls.predictions.transform.LayerNorm.bias', 'cls.predictions.bias', 'cls.seq_relationship.weight', 'cls.predictions.transform.LayerNorm.weight', 'cls.seq_relationship.bias', 'cls.predictions.transform.dense.weight', 'cls.predictions.decoder.weight']\n",
      "- This IS expected if you are initializing BertModel from the checkpoint of a model trained on another task or with another architecture (e.g. initializing a BertForSequenceClassification model from a BertForPreTraining model).\n",
      "- This IS NOT expected if you are initializing BertModel from the checkpoint of a model that you expect to be exactly identical (initializing a BertForSequenceClassification model from a BertForSequenceClassification model).\n"
     ]
    }
   ],
   "source": [
    "bench.run()"
   ]
  },
  {
   "cell_type": "code",
   "execution_count": 8,
   "metadata": {},
   "outputs": [
    {
     "name": "stdout",
     "output_type": "stream",
     "text": [
      "[---------------------- Pytorch Benchmark ----------------------]\n",
      "                                             |  bert-base-uncased\n",
      "1 threads: ------------------------------------------------------\n",
      "      batch_size=1, seq_len=128, sparsity=0  |        304.0      \n",
      "\n",
      "Times are in milliseconds (ms).\n",
      "\n"
     ]
    }
   ],
   "source": [
    "bench.print()"
   ]
  },
  {
   "cell_type": "code",
   "execution_count": null,
   "metadata": {},
   "outputs": [],
   "source": []
  }
 ],
 "metadata": {
  "kernelspec": {
   "display_name": "benchpress",
   "language": "python",
   "name": "python3"
  },
  "language_info": {
   "codemirror_mode": {
    "name": "ipython",
    "version": 3
   },
   "file_extension": ".py",
   "mimetype": "text/x-python",
   "name": "python",
   "nbconvert_exporter": "python",
   "pygments_lexer": "ipython3",
   "version": "3.10.11"
  },
  "orig_nbformat": 4
 },
 "nbformat": 4,
 "nbformat_minor": 2
}
